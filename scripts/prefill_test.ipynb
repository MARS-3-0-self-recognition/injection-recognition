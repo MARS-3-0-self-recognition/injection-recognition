{
 "cells": [
  {
   "cell_type": "code",
   "execution_count": null,
   "metadata": {},
   "outputs": [],
   "source": [
    "from inspect_ai.model import get_model, GenerateConfig\n",
    "\n",
    "MODELS_TO_TEST = [\n",
    "    \"hf_prefill/openai/gpt-oss-20b\",\n",
    "    # \"google/gemini-2.5-pro\",\n",
    "    # \"groq/openai/gpt-oss-20b\"\n",
    "    # \"openai/gpt-4.1-nano\"\n",
    "    # \"together-completions/openai/gpt-oss-20b\"\n",
    "]"
   ]
  },
  {
   "cell_type": "code",
   "execution_count": 2,
   "metadata": {},
   "outputs": [
    {
     "data": {
      "application/vnd.jupyter.widget-view+json": {
       "model_id": "e01d26f9e1494a38b890f82ea256ee5a",
       "version_major": 2,
       "version_minor": 0
      },
      "text/plain": [
       "Output()"
      ]
     },
     "metadata": {},
     "output_type": "display_data"
    },
    {
     "data": {
      "text/html": [
       "<pre style=\"white-space:pre;overflow-x:auto;line-height:normal;font-family:Menlo,'DejaVu Sans Mono',consolas,'Courier New',monospace\"></pre>\n"
      ],
      "text/plain": []
     },
     "metadata": {},
     "output_type": "display_data"
    }
   ],
   "source": [
    "from inspect_ai import Task, eval\n",
    "from src.inspect_helpers.solvers import prefill_generate\n",
    "from inspect_ai.dataset import Sample, MemoryDataset\n",
    "\n",
    "\n",
    "custom_dataset=MemoryDataset([\n",
    "    Sample(\n",
    "        input=\"Why did the chicken cross the road?\",\n",
    "        metadata={\"prefill\": \"Chickens are lo\"}\n",
    "    )\n",
    "])\n",
    "\n",
    "eval(\n",
    "    Task(\n",
    "        dataset=custom_dataset,\n",
    "        solver=[prefill_generate()]\n",
    "        ),\n",
    "    model = MODELS_TO_TEST,\n",
    "    epochs = 1, \n",
    "    max_tokens=3,\n",
    "    log_dir=\"logs/prefill_test\",\n",
    "    logprobs=True,\n",
    ")\n"
   ]
  },
  {
   "cell_type": "markdown",
   "metadata": {},
   "source": []
  },
  {
   "cell_type": "markdown",
   "metadata": {},
   "source": []
  }
 ],
 "metadata": {
  "kernelspec": {
   "display_name": "injection_recognition",
   "language": "python",
   "name": "python3"
  },
  "language_info": {
   "codemirror_mode": {
    "name": "ipython",
    "version": 3
   },
   "file_extension": ".py",
   "mimetype": "text/x-python",
   "name": "python",
   "nbconvert_exporter": "python",
   "pygments_lexer": "ipython3",
   "version": "3.11.0"
  }
 },
 "nbformat": 4,
 "nbformat_minor": 2
}
