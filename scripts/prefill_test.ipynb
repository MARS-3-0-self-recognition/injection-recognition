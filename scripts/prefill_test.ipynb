{
 "cells": [
  {
   "cell_type": "code",
   "execution_count": 2,
   "metadata": {},
   "outputs": [
    {
     "data": {
      "application/vnd.jupyter.widget-view+json": {
       "model_id": "11e766e86a4849b59111e12fe590b27d",
       "version_major": 2,
       "version_minor": 0
      },
      "text/plain": [
       "Output()"
      ]
     },
     "metadata": {},
     "output_type": "display_data"
    },
    {
     "data": {
      "text/html": [
       "<pre style=\"white-space:pre;overflow-x:auto;line-height:normal;font-family:Menlo,'DejaVu Sans Mono',consolas,'Courier New',monospace\"></pre>\n"
      ],
      "text/plain": []
     },
     "metadata": {},
     "output_type": "display_data"
    }
   ],
   "source": [
    "import re\n",
    "\n",
    "from inspect_ai import Task, task, eval\n",
    "from inspect_ai.dataset import Sample, MemoryDataset\n",
    "from inspect_ai.model import ChatMessageAssistant, ChatMessageUser\n",
    "from inspect_ai.scorer import Score, Target, accuracy, scorer\n",
    "from inspect_ai.solver import Generate, Solver, TaskState, generate, solver\n",
    "from inspect_ai.model import CachePolicy, GenerateConfigArgs\n",
    "from typing import Literal, Unpack\n",
    "\n",
    "\n",
    "@solver\n",
    "def prefill(prefill_message: str) -> Solver:\n",
    "    \"\"\"Solver that prefills assistant messages to guide the model's response.\"\"\"\n",
    "\n",
    "    async def solve(state: TaskState, generate: Generate):\n",
    "        # At the end of the conversation, add the prefill message to the assistant message\n",
    "        state.messages.append(ChatMessageAssistant(content=prefill_message))\n",
    "        return state\n",
    "\n",
    "    return solve\n",
    "\n",
    "@solver\n",
    "def prefill_generate(\n",
    "    prefill_message: str,\n",
    "    tool_calls: Literal[\"loop\", \"single\", \"none\"] = \"loop\",\n",
    "    cache: bool | CachePolicy = False,\n",
    "    **kwargs: Unpack[GenerateConfigArgs],\n",
    ") -> Solver:\n",
    "    r\"\"\"Generate output from the model and append it to task message history.\n",
    "\n",
    "    generate() is the default solver if none is specified for a given task.\n",
    "\n",
    "    Args:\n",
    "      tool_calls (Literal[\"loop\", \"single\", \"none\"]): Resolve tool calls:\n",
    "        - `\"loop\"` resolves tools calls and then invokes `generate()`,\n",
    "            proceeding in a loop which terminates when there are no more\n",
    "            tool calls or `message_limit` or `token_limit` is exceeded.\n",
    "            This is the default behavior.\n",
    "        - `\"single\"` resolves at most a single set of tool calls and then returns.\n",
    "        - `\"none\"` does not resolve tool calls at all (in this\n",
    "            case you will need to invoke `call_tools()` directly).\n",
    "\n",
    "      cache: (bool | CachePolicy):\n",
    "        Caching behaviour for generate responses (defaults to no caching).\n",
    "\n",
    "      **kwargs: Optional generation config arguments.\n",
    "    \"\"\"\n",
    "\n",
    "    # call generate on the tasks\n",
    "    async def solve(state: TaskState, generate: Generate) -> TaskState:\n",
    "        state.messages.append(ChatMessageAssistant(content=prefill_message))    \n",
    "        return await generate(state, tool_calls=tool_calls, cache=cache, **kwargs)\n",
    "\n",
    "    # return solve\n",
    "    return solve\n",
    "\n",
    "\n",
    "custom_dataset=MemoryDataset([\n",
    "    Sample(\n",
    "        input=\"Why did the chicken cross the road?\",\n",
    "    )\n",
    "])\n",
    "\n",
    "eval(\n",
    "    Task(\n",
    "        dataset=custom_dataset,\n",
    "        solver=[prefill_generate(\"Chick\")]\n",
    "        ),\n",
    "    # model = \"anthropic/claude-sonnet-4-20250514\",\n",
    "    # model = \"together/meta-llama/Meta-Llama-3.1-70B-Instruct-Turbo\",\n",
    "    # model = [\"hf/openai-community/gpt2\", \"anthropic/claude-sonnet-4-20250514\", \"together/meta-llama/Meta-Llama-3.1-70B-Instruct-Turbo\", \"vllm/openai-community/gpt2\", \"openai/gpt-4.1-nano\"],\n",
    "    model = \"ollama/hf.co/bartowski/Llama-3.2-1B-Instruct-GGUF:latest\",\n",
    "    epochs = 5, \n",
    "    max_tokens=5,\n",
    ")\n"
   ]
  },
  {
   "cell_type": "code",
   "execution_count": null,
   "metadata": {},
   "outputs": [
    {
     "name": "stdout",
     "output_type": "stream",
     "text": [
      "Inspect View: file:///Users/work/self-recognition/logs\n",
      "======== Running on http://127.0.0.1:7575 ========\n",
      "(Press CTRL+C to quit)\n"
     ]
    }
   ],
   "source": [
    "!inspect view"
   ]
  }
 ],
 "metadata": {
  "kernelspec": {
   "display_name": "llm-awareness",
   "language": "python",
   "name": "python3"
  },
  "language_info": {
   "codemirror_mode": {
    "name": "ipython",
    "version": 3
   },
   "file_extension": ".py",
   "mimetype": "text/x-python",
   "name": "python",
   "nbconvert_exporter": "python",
   "pygments_lexer": "ipython3",
   "version": "3.11.13"
  }
 },
 "nbformat": 4,
 "nbformat_minor": 2
}
