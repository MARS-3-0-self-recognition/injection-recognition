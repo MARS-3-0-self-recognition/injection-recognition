{
 "cells": [
  {
   "cell_type": "code",
   "execution_count": 1,
   "id": "5ec9a030",
   "metadata": {},
   "outputs": [],
   "source": [
    "from inspect_ai.model import get_model, GenerateConfig\n",
    "\n",
    "EXPERIMENT_NAME = \"wikihow_summary_injection\"\n",
    "CONTROL_LOG_DIR = f\"logs/{EXPERIMENT_NAME}/control\"\n",
    "TREATMENT_LOG_DIR = f\"logs/{EXPERIMENT_NAME}/treatment\"\n",
    "\n",
    "SCORING_MODEL = \"anthropic/claude-3-5-haiku-20241022\""
   ]
  },
  {
   "cell_type": "code",
   "execution_count": 2,
   "id": "3345584f",
   "metadata": {},
   "outputs": [
    {
     "data": {
      "application/vnd.jupyter.widget-view+json": {
       "model_id": "48a613eecc3748dfa13e0514c997307f",
       "version_major": 2,
       "version_minor": 0
      },
      "text/plain": [
       "Output()"
      ]
     },
     "metadata": {},
     "output_type": "display_data"
    },
    {
     "data": {
      "text/html": [
       "<pre style=\"white-space:pre;overflow-x:auto;line-height:normal;font-family:Menlo,'DejaVu Sans Mono',consolas,'Courier New',monospace\"></pre>\n"
      ],
      "text/plain": []
     },
     "metadata": {},
     "output_type": "display_data"
    },
    {
     "name": "stderr",
     "output_type": "stream",
     "text": [
      "Traceback (most recent call last):\n",
      "  File \"/opt/anaconda3/envs/injection_recognition/lib/python3.11/site-packages/IPython/core/interactiveshell.py\", line 3699, in run_code\n",
      "    exec(code_obj, self.user_global_ns, self.user_ns)\n",
      "  File \"/var/folders/_y/j03vm32d31n5l_7h7ljgmkzw0000gq/T/ipykernel_55607/1825975189.py\", line 14, in <module>\n",
      "    scoring_log = score(treatment_log, consistency_recognition_conf_matrix(\n",
      "                  ^^^^^^^^^^^^^^^^^^^^^^^^^^^^^^^^^^^^^^^^^^^^^^^^^^^^^^^^^\n",
      "  File \"/opt/anaconda3/envs/injection_recognition/lib/python3.11/site-packages/inspect_ai/_eval/score.py\", line 74, in score\n",
      "    return run_coroutine(score_async(log, scorers, epochs_reducer, action))\n",
      "           ^^^^^^^^^^^^^^^^^^^^^^^^^^^^^^^^^^^^^^^^^^^^^^^^^^^^^^^^^^^^^^^^\n",
      "  File \"/opt/anaconda3/envs/injection_recognition/lib/python3.11/site-packages/inspect_ai/_util/_async.py\", line 152, in run_coroutine\n",
      "    return asyncio.run(coroutine)\n",
      "           ^^^^^^^^^^^^^^^^^^^^^^\n",
      "  File \"/opt/anaconda3/envs/injection_recognition/lib/python3.11/site-packages/nest_asyncio.py\", line 30, in run\n",
      "    return loop.run_until_complete(task)\n",
      "           ^^^^^^^^^^^^^^^^^^^^^^^^^^^^^\n",
      "  File \"/opt/anaconda3/envs/injection_recognition/lib/python3.11/site-packages/nest_asyncio.py\", line 98, in run_until_complete\n",
      "    return f.result()\n",
      "           ^^^^^^^^^^\n",
      "  File \"/opt/anaconda3/envs/injection_recognition/lib/python3.11/asyncio/futures.py\", line 203, in result\n",
      "    raise self._exception.with_traceback(self._exception_tb)\n",
      "  File \"/opt/anaconda3/envs/injection_recognition/lib/python3.11/asyncio/tasks.py\", line 267, in __step\n",
      "    result = coro.send(None)\n",
      "             ^^^^^^^^^^^^^^^\n",
      "  File \"/opt/anaconda3/envs/injection_recognition/lib/python3.11/site-packages/inspect_ai/_eval/score.py\", line 141, in score_async\n",
      "    scores: list[dict[str, SampleScore]] = await tg_collect(\n",
      "                                           ^^^^^^^^^^^^^^^^^\n",
      "  File \"/opt/anaconda3/envs/injection_recognition/lib/python3.11/site-packages/inspect_ai/_util/_async.py\", line 74, in tg_collect\n",
      "    raise ex.exceptions[0] from None\n",
      "  File \"/opt/anaconda3/envs/injection_recognition/lib/python3.11/asyncio/tasks.py\", line 267, in __step\n",
      "    result = coro.send(None)\n",
      "             ^^^^^^^^^^^^^^^\n",
      "  File \"/opt/anaconda3/envs/injection_recognition/lib/python3.11/site-packages/inspect_ai/_util/_async.py\", line 62, in run_task\n",
      "    result = await funcs[index]()\n",
      "             ^^^^^^^^^^^^^^^^^^^^\n",
      "  File \"/opt/anaconda3/envs/injection_recognition/lib/python3.11/site-packages/inspect_ai/_eval/score.py\", line 262, in run_score_task\n",
      "    result = await scorer(state, target)\n",
      "             ^^^^^^^^^^^^^^^^^^^^^^^^^^^\n",
      "  File \"/Users/work/injection-recognition/src/inspect_helpers/scorers.py\", line 190, in score\n",
      "    \"model_output\": model_output.completion,\n",
      "                    ^^^^^^^^^^^^^^^^^^^^^^^\n",
      "AttributeError: 'str' object has no attribute 'completion'\n"
     ]
    }
   ],
   "source": [
    "from inspect_ai.log import list_eval_logs, read_eval_log, write_eval_log, EvalLogInfo, EvalLog\n",
    "from inspect_ai.analysis import evals_df, samples_df\n",
    "from inspect_ai import score\n",
    "from src.inspect_helpers.scorers import consistency_recognition_conf_matrix\n",
    "import os\n",
    "\n",
    "treatment_logs_infos = list_eval_logs(TREATMENT_LOG_DIR)\n",
    "\n",
    "for treatment_log_info in treatment_logs_infos:\n",
    "    treatment_log = read_eval_log(treatment_log_info)    \n",
    "    \n",
    "    consistency_criterion = \"typos\" if \"typo\" in treatment_log.eval.task_args[\"csv_file_path\"] else \"incorrect capitalization\"\n",
    "\n",
    "    scoring_log = score(treatment_log, consistency_recognition_conf_matrix(\n",
    "        consistency_criterion=consistency_criterion,\n",
    "        prompt_template_path=\"prompts/scorer_prompts/consistency_and_recognition_mgqa.txt\",\n",
    "        task2_label=\"Task 2:\",\n",
    "        quote_label=\"Quote -\",\n",
    "        model=SCORING_MODEL,\n",
    "    ))\n",
    "\n",
    "    base, ext = os.path.splitext(treatment_log_info.name)\n",
    "    location = f\"{base}_with_consistency_recognition_conf_matrix_scores{ext}\"\n",
    "    \n",
    "    write_eval_log(scoring_log, location=location, format=\"eval\")\n"
   ]
  }
 ],
 "metadata": {
  "kernelspec": {
   "display_name": "injection_recognition",
   "language": "python",
   "name": "python3"
  },
  "language_info": {
   "codemirror_mode": {
    "name": "ipython",
    "version": 3
   },
   "file_extension": ".py",
   "mimetype": "text/x-python",
   "name": "python",
   "nbconvert_exporter": "python",
   "pygments_lexer": "ipython3",
   "version": "3.11.0"
  }
 },
 "nbformat": 4,
 "nbformat_minor": 5
}
