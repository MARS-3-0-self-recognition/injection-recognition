{
 "cells": [
  {
   "cell_type": "markdown",
   "metadata": {},
   "source": [
    "## Imports and Variables"
   ]
  },
  {
   "cell_type": "code",
   "execution_count": null,
   "metadata": {},
   "outputs": [],
   "source": [
    "\n",
    "MODELS = [\n",
    "    \"anthropic/claude-sonnet-4-20250514\", \n",
    "    \"anthropic/claude-3-5-haiku-20241022\",\n",
    "    \"qwen3:0.6b-q8_0\"\n",
    "]\n",
    "\n",
    "SCORING_MODELS = [\n",
    "    \"together_ai/Qwen3-235B-A22B\",\n",
    "]\n"
   ]
  },
  {
   "cell_type": "markdown",
   "metadata": {},
   "source": [
    "## Control Evaluation"
   ]
  },
  {
   "cell_type": "code",
   "execution_count": null,
   "metadata": {},
   "outputs": [],
   "source": []
  },
  {
   "cell_type": "markdown",
   "metadata": {},
   "source": [
    "## Saving Task 1 results to CSVs"
   ]
  },
  {
   "cell_type": "code",
   "execution_count": null,
   "metadata": {},
   "outputs": [],
   "source": []
  },
  {
   "cell_type": "markdown",
   "metadata": {},
   "source": [
    "## Applying treatments to csv datasets (Jesse)"
   ]
  },
  {
   "cell_type": "code",
   "execution_count": null,
   "metadata": {},
   "outputs": [],
   "source": []
  },
  {
   "cell_type": "markdown",
   "metadata": {},
   "source": [
    "## Treatment Evaluations"
   ]
  },
  {
   "cell_type": "code",
   "execution_count": null,
   "metadata": {},
   "outputs": [],
   "source": [
    "from src.inspect_helpers.tasks import injection_consistency_and_recognition\n",
    "from inspect_ai import eval\n",
    "\n",
    "eval(\n",
    "    tasks=[\n",
    "        injection_consistency_and_recognition(\n",
    "            csv_file_path=\"data/wikisum_capitalization_treatments_6_10.csv\",\n",
    "            treatment_col=treatment_col\n",
    "        )\n",
    "        for treatment_col in [\"IL33_S1\", \"IL33_S2\"]\n",
    "    ],\n",
    "    model=[\"ollama/qwen3:0.6b\", \"anthropic/claude-sonnet-4-20250514\"],\n",
    "    limit=2,\n",
    "    log_dir=\"logs/wikisum_capitalization_treatments\",\n",
    "    max_connections=100, \n",
    "    timeout=500,\n",
    ")"
   ]
  },
  {
   "cell_type": "markdown",
   "metadata": {},
   "source": [
    "# Summarising results"
   ]
  },
  {
   "cell_type": "code",
   "execution_count": null,
   "metadata": {},
   "outputs": [],
   "source": []
  },
  {
   "cell_type": "code",
   "execution_count": null,
   "metadata": {},
   "outputs": [],
   "source": []
  }
 ],
 "metadata": {
  "kernelspec": {
   "display_name": "injection_recognition",
   "language": "python",
   "name": "python3"
  },
  "language_info": {
   "name": "python",
   "version": "3.11.0"
  }
 },
 "nbformat": 4,
 "nbformat_minor": 2
}
