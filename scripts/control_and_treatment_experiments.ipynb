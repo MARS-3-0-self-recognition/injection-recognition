{
 "cells": [
  {
   "cell_type": "markdown",
   "metadata": {},
   "source": [
    "## Imports and Variables"
   ]
  },
  {
   "cell_type": "code",
   "execution_count": 1,
   "metadata": {},
   "outputs": [],
   "source": [
    "from src.data_structures import ExperimentConfig, ControlConfig, TreatmentConfig\n",
    "from src.inspect_helpers.tasks import injection_consistency_and_recognition\n",
    "from src.inspect_helpers.datasets import ROW_INDEX_KEY\n",
    "from src.inspect_helpers.scorers import custom_match, custom_prompt_criterion_mgf\n",
    "from src.inspect_helpers.utils import collect_logs_by_model, get_validated_logs_by_model\n",
    "from inspect_ai.log import EvalLog, list_eval_logs, read_eval_log\n",
    "from inspect_ai.model import Model, ModelAPI, GenerateConfig, anthropic, ollama, get_model\n",
    "from inspect_ai import eval, eval_async\n",
    "import pandas as pd\n",
    "import os\n",
    "\n",
    "EXPERIMENT_NAME = \"wikihow_summary_injection\"\n",
    "CONTROL_LOG_DIR = f\"logs/{EXPERIMENT_NAME}/control\"\n",
    "TREATMENT_LOG_DIR = f\"logs/{EXPERIMENT_NAME}/treatment\"\n",
    "\n",
    "START_IDX = 0\n",
    "END_IDX = 20\n",
    "\n",
    "\n",
    "MODELS = [\n",
    "    # \"anthropic/claude-sonnet-4-20250514\",\n",
    "    \"anthropic/claude-3-5-haiku-20241022\",\n",
    "    \"ollama/gemma3:1b-it-q8_0\",\n",
    "    # \"ollama/llama3.2:1b-instruct-q8_0\"\n",
    "]\n",
    "\n",
    "SCORING_MODEL= \"together/Qwen/Qwen3-235B-A22B-Instruct-2507-tput\"\n",
    "\n",
    "islocal = {\n",
    "    \"ollama\": True,\n",
    "    \"together\": False,\n",
    "    \"anthropic\": False,\n",
    "}\n",
    "\n",
    "def split_provider_and_model(model: str) -> str:\n",
    "    return model.split(\"/\")[0], model.split(\"/\")[1]\n",
    "\n",
    "\n",
    "PROMPT_TEMPLATE_ARGS = {\n",
    "    \"summary_adjectives\": \"very long and detailed, single-paragraph\",\n",
    "}\n",
    "\n",
    "BATCH_SIZE_LOCAL = 4\n",
    "MAX_CONNECTIONS_API = 100\n",
    "\n",
    "\n",
    "LIMIT = 1"
   ]
  },
  {
   "cell_type": "code",
   "execution_count": 2,
   "metadata": {},
   "outputs": [
    {
     "name": "stdout",
     "output_type": "stream",
     "text": [
      "Loading WikiSum dataset (HuggingFace) with splits all - this will be cached for future use...\n"
     ]
    },
    {
     "name": "stderr",
     "output_type": "stream",
     "text": [
      "2025-07-31 15:41:59,081 - INFO - Loading WikiSum dataset from Hugging Face...\n",
      "2025-07-31 15:42:03,332 - INFO - Processing train split with 35775 articles\n",
      "2025-07-31 15:42:04,903 - INFO - Processing validation split with 2000 articles\n",
      "2025-07-31 15:42:04,996 - INFO - Processing test split with 2000 articles\n",
      "2025-07-31 15:42:05,087 - INFO - Total articles loaded from Hugging Face: 39775\n"
     ]
    },
    {
     "name": "stdout",
     "output_type": "stream",
     "text": [
      "Dataset cached! Future calls will be much faster.\n",
      "Available dataset splits:\n",
      "------------------------------\n",
      "        test:   2000 articles\n",
      "       train:  35775 articles\n",
      "  validation:   2000 articles\n",
      "------------------------------\n",
      "       Total:  39775 articles\n"
     ]
    },
    {
     "data": {
      "text/plain": [
       "{'train': 35775, 'validation': 2000, 'test': 2000}"
      ]
     },
     "execution_count": 2,
     "metadata": {},
     "output_type": "execute_result"
    }
   ],
   "source": [
    "from src.data.treatments.wikisum_utils import show_available_splits\n",
    "\n",
    "show_available_splits()"
   ]
  },
  {
   "cell_type": "code",
   "execution_count": 8,
   "metadata": {},
   "outputs": [
    {
     "name": "stdout",
     "output_type": "stream",
     "text": [
      "Loading WikiSum articles 0 to 19...\n",
      "Using cached dataset (35775 articles)\n",
      "Saving to CSV: data/wikisum_0_20.csv\n",
      "Loaded 20 articles\n"
     ]
    },
    {
     "data": {
      "text/html": [
       "<div>\n",
       "<style scoped>\n",
       "    .dataframe tbody tr th:only-of-type {\n",
       "        vertical-align: middle;\n",
       "    }\n",
       "\n",
       "    .dataframe tbody tr th {\n",
       "        vertical-align: top;\n",
       "    }\n",
       "\n",
       "    .dataframe thead th {\n",
       "        text-align: right;\n",
       "    }\n",
       "</style>\n",
       "<table border=\"1\" class=\"dataframe\">\n",
       "  <thead>\n",
       "    <tr style=\"text-align: right;\">\n",
       "      <th></th>\n",
       "      <th>id</th>\n",
       "      <th>title</th>\n",
       "      <th>text</th>\n",
       "    </tr>\n",
       "  </thead>\n",
       "  <tbody>\n",
       "    <tr>\n",
       "      <th>0</th>\n",
       "      <td>train_0</td>\n",
       "      <td>How to Store Fresh Oysters</td>\n",
       "      <td>Do not shuck or wash your oysters. Oysters tas...</td>\n",
       "    </tr>\n",
       "    <tr>\n",
       "      <th>1</th>\n",
       "      <td>train_1</td>\n",
       "      <td>How to Tell if a Rolex Watch is Real or Fake</td>\n",
       "      <td>Listen for the telltale \"tick, tick, tick\" rat...</td>\n",
       "    </tr>\n",
       "    <tr>\n",
       "      <th>2</th>\n",
       "      <td>train_2</td>\n",
       "      <td>How to Ship a Bicycle Cheaply</td>\n",
       "      <td>Use an Allen key to unscrew the handlebars fro...</td>\n",
       "    </tr>\n",
       "    <tr>\n",
       "      <th>3</th>\n",
       "      <td>train_3</td>\n",
       "      <td>How to Seal Pavers</td>\n",
       "      <td>Choose a water-based sealer if your pavers are...</td>\n",
       "    </tr>\n",
       "    <tr>\n",
       "      <th>4</th>\n",
       "      <td>train_4</td>\n",
       "      <td>How to Handle an Emergency Situation</td>\n",
       "      <td>Remain calm. Although emergencies require rapi...</td>\n",
       "    </tr>\n",
       "    <tr>\n",
       "      <th>5</th>\n",
       "      <td>train_5</td>\n",
       "      <td>How to Avoid Self Sabotage when You Feel Unloved</td>\n",
       "      <td>Resist the temptation to self-medicate. When y...</td>\n",
       "    </tr>\n",
       "    <tr>\n",
       "      <th>6</th>\n",
       "      <td>train_6</td>\n",
       "      <td>How to Make Flavored Water</td>\n",
       "      <td>Make citrus water. Wash 1–3 citrus fruits per ...</td>\n",
       "    </tr>\n",
       "    <tr>\n",
       "      <th>7</th>\n",
       "      <td>train_7</td>\n",
       "      <td>How to Play Powerball</td>\n",
       "      <td>Know where (and to whom) Powerball tickets are...</td>\n",
       "    </tr>\n",
       "    <tr>\n",
       "      <th>8</th>\n",
       "      <td>train_8</td>\n",
       "      <td>How to Apply Heat Transfer Vinyl</td>\n",
       "      <td>Choose and purchase vinyl. There are many colo...</td>\n",
       "    </tr>\n",
       "    <tr>\n",
       "      <th>9</th>\n",
       "      <td>train_9</td>\n",
       "      <td>How to Screen Print at Home</td>\n",
       "      <td>Purchase a canvas stretcher frame at a craft o...</td>\n",
       "    </tr>\n",
       "    <tr>\n",
       "      <th>10</th>\n",
       "      <td>train_10</td>\n",
       "      <td>How to Make Bioplastic</td>\n",
       "      <td>Gather the necessary materials. To make this t...</td>\n",
       "    </tr>\n",
       "    <tr>\n",
       "      <th>11</th>\n",
       "      <td>train_11</td>\n",
       "      <td>How to Grind Weed Without a Grinder</td>\n",
       "      <td>Place your marijuana buds into a glass. Fill a...</td>\n",
       "    </tr>\n",
       "    <tr>\n",
       "      <th>12</th>\n",
       "      <td>train_12</td>\n",
       "      <td>How to Treat Your Mother on Her Birthday</td>\n",
       "      <td>Give her your undivided attention. One of the ...</td>\n",
       "    </tr>\n",
       "    <tr>\n",
       "      <th>13</th>\n",
       "      <td>train_13</td>\n",
       "      <td>How to Condition Your Hair With Aloe Vera</td>\n",
       "      <td>Slice an aloe vera leaf. You can buy aloe vera...</td>\n",
       "    </tr>\n",
       "    <tr>\n",
       "      <th>14</th>\n",
       "      <td>train_14</td>\n",
       "      <td>How to Roast Pistachios</td>\n",
       "      <td>Roast the pistachios in the oven to save time....</td>\n",
       "    </tr>\n",
       "    <tr>\n",
       "      <th>15</th>\n",
       "      <td>train_15</td>\n",
       "      <td>How to Throw Your Own Birthday Party</td>\n",
       "      <td>Create your guest list first. By estimating yo...</td>\n",
       "    </tr>\n",
       "    <tr>\n",
       "      <th>16</th>\n",
       "      <td>train_16</td>\n",
       "      <td>How to Deal With Morton's Toe</td>\n",
       "      <td>Look at your foot. If you have Morton's Toe, y...</td>\n",
       "    </tr>\n",
       "    <tr>\n",
       "      <th>17</th>\n",
       "      <td>train_17</td>\n",
       "      <td>How to Train Chickens</td>\n",
       "      <td>Use treats to motivate your chickens. Chickens...</td>\n",
       "    </tr>\n",
       "    <tr>\n",
       "      <th>18</th>\n",
       "      <td>train_18</td>\n",
       "      <td>How to Apply Lotion to Your Own Back</td>\n",
       "      <td>Squeeze a line of lotion onto the tops of both...</td>\n",
       "    </tr>\n",
       "    <tr>\n",
       "      <th>19</th>\n",
       "      <td>train_19</td>\n",
       "      <td>How to Respond to Your Crush Asking You if You...</td>\n",
       "      <td>Pay attention to her tone of voice and body la...</td>\n",
       "    </tr>\n",
       "  </tbody>\n",
       "</table>\n",
       "</div>"
      ],
      "text/plain": [
       "          id                                              title  \\\n",
       "0    train_0                         How to Store Fresh Oysters   \n",
       "1    train_1       How to Tell if a Rolex Watch is Real or Fake   \n",
       "2    train_2                      How to Ship a Bicycle Cheaply   \n",
       "3    train_3                                 How to Seal Pavers   \n",
       "4    train_4               How to Handle an Emergency Situation   \n",
       "5    train_5   How to Avoid Self Sabotage when You Feel Unloved   \n",
       "6    train_6                         How to Make Flavored Water   \n",
       "7    train_7                              How to Play Powerball   \n",
       "8    train_8                   How to Apply Heat Transfer Vinyl   \n",
       "9    train_9                        How to Screen Print at Home   \n",
       "10  train_10                             How to Make Bioplastic   \n",
       "11  train_11                How to Grind Weed Without a Grinder   \n",
       "12  train_12           How to Treat Your Mother on Her Birthday   \n",
       "13  train_13          How to Condition Your Hair With Aloe Vera   \n",
       "14  train_14                            How to Roast Pistachios   \n",
       "15  train_15               How to Throw Your Own Birthday Party   \n",
       "16  train_16                      How to Deal With Morton's Toe   \n",
       "17  train_17                              How to Train Chickens   \n",
       "18  train_18               How to Apply Lotion to Your Own Back   \n",
       "19  train_19  How to Respond to Your Crush Asking You if You...   \n",
       "\n",
       "                                                 text  \n",
       "0   Do not shuck or wash your oysters. Oysters tas...  \n",
       "1   Listen for the telltale \"tick, tick, tick\" rat...  \n",
       "2   Use an Allen key to unscrew the handlebars fro...  \n",
       "3   Choose a water-based sealer if your pavers are...  \n",
       "4   Remain calm. Although emergencies require rapi...  \n",
       "5   Resist the temptation to self-medicate. When y...  \n",
       "6   Make citrus water. Wash 1–3 citrus fruits per ...  \n",
       "7   Know where (and to whom) Powerball tickets are...  \n",
       "8   Choose and purchase vinyl. There are many colo...  \n",
       "9   Purchase a canvas stretcher frame at a craft o...  \n",
       "10  Gather the necessary materials. To make this t...  \n",
       "11  Place your marijuana buds into a glass. Fill a...  \n",
       "12  Give her your undivided attention. One of the ...  \n",
       "13  Slice an aloe vera leaf. You can buy aloe vera...  \n",
       "14  Roast the pistachios in the oven to save time....  \n",
       "15  Create your guest list first. By estimating yo...  \n",
       "16  Look at your foot. If you have Morton's Toe, y...  \n",
       "17  Use treats to motivate your chickens. Chickens...  \n",
       "18  Squeeze a line of lotion onto the tops of both...  \n",
       "19  Pay attention to her tone of voice and body la...  "
      ]
     },
     "execution_count": 8,
     "metadata": {},
     "output_type": "execute_result"
    }
   ],
   "source": [
    "from src.data.treatments.wikisum_utils import get_WikiSum, get_WikiSum_random\n",
    "\n",
    "df = get_WikiSum(\n",
    "    START_IDX,\n",
    "    END_IDX,\n",
    "    save_path=\"data/\",\n",
    "    splits=[\"train\"],\n",
    "    columns=[\"id\", \"title\", \"text\"],\n",
    ")\n",
    "df"
   ]
  },
  {
   "cell_type": "markdown",
   "metadata": {},
   "source": [
    "## Control Evaluation"
   ]
  },
  {
   "cell_type": "code",
   "execution_count": 2,
   "metadata": {},
   "outputs": [],
   "source": [
    "experiment_config = ExperimentConfig(\n",
    "    control=ControlConfig(\n",
    "        file_name=f\"data/wikisum_{START_IDX}_{END_IDX}.csv\",\n",
    "        scorer_criteria=[\"No\", \"None\"],\n",
    "    ),\n",
    ")"
   ]
  },
  {
   "cell_type": "code",
   "execution_count": 3,
   "metadata": {},
   "outputs": [],
   "source": [
    "def resolve_model(model: str) -> Model:\n",
    "    return get_model(\n",
    "        model,\n",
    "        config=GenerateConfig(\n",
    "            max_connections=BATCH_SIZE_LOCAL\n",
    "            if islocal[split_provider_and_model(model)[0]]\n",
    "            else MAX_CONNECTIONS_API\n",
    "        ),\n",
    "    )\n",
    "\n",
    "resolved_models = [resolve_model(model) for model in MODELS]"
   ]
  },
  {
   "cell_type": "code",
   "execution_count": 4,
   "metadata": {},
   "outputs": [
    {
     "data": {
      "text/plain": [
       "[<inspect_ai.model._model.Model at 0x120e93d90>,\n",
       " <inspect_ai.model._model.Model at 0x120381ed0>]"
      ]
     },
     "execution_count": 4,
     "metadata": {},
     "output_type": "execute_result"
    }
   ],
   "source": [
    "resolved_models"
   ]
  },
  {
   "cell_type": "code",
   "execution_count": null,
   "metadata": {},
   "outputs": [
    {
     "data": {
      "application/vnd.jupyter.widget-view+json": {
       "model_id": "3b21a553a5fe4715a3ed83b351738691",
       "version_major": 2,
       "version_minor": 0
      },
      "text/plain": [
       "Output()"
      ]
     },
     "metadata": {},
     "output_type": "display_data"
    },
    {
     "data": {
      "text/html": [
       "<pre style=\"white-space:pre;overflow-x:auto;line-height:normal;font-family:Menlo,'DejaVu Sans Mono',consolas,'Courier New',monospace\"></pre>\n"
      ],
      "text/plain": []
     },
     "metadata": {},
     "output_type": "display_data"
    }
   ],
   "source": [
    "eval(\n",
    "    tasks=[\n",
    "        injection_consistency_and_recognition(\n",
    "            csv_file_path=experiment_config.control.file_name,\n",
    "            treatment_col=None,\n",
    "            scorer_criteria=experiment_config.control.scorer_criteria,\n",
    "            prompt_template_args=PROMPT_TEMPLATE_ARGS,\n",
    "            scorer_model=resolve_model(SCORING_MODEL),\n",
    "        )\n",
    "    ],\n",
    "    model=resolved_models,\n",
    "    limit=LIMIT,\n",
    "    log_dir=CONTROL_LOG_DIR,\n",
    "    timeout=5000,\n",
    ")\n"
   ]
  },
  {
   "cell_type": "markdown",
   "metadata": {},
   "source": [
    "## Make CSVs from the control eval logs"
   ]
  },
  {
   "cell_type": "code",
   "execution_count": 13,
   "metadata": {},
   "outputs": [
    {
     "name": "stdout",
     "output_type": "stream",
     "text": [
      "Validating evaluation logs...\n",
      "✓ Validation passed!\n",
      "Saved CSV with 1 rows (with responses) to: data/wikihow_summary_injection/anthropic_claude-3-5-haiku-20241022/dataset.csv\n",
      "Saved CSV with 4 rows (with responses) to: data/wikihow_summary_injection/ollama_llama3.2:1b-instruct-q8_0/dataset.csv\n",
      "Saved CSV with 4 rows (with responses) to: data/wikihow_summary_injection/ollama_gemma3:1b-it-q8_0/dataset.csv\n",
      "Saved CSV with 4 rows (with responses) to: data/wikihow_summary_injection/anthropic_claude-sonnet-4-20250514/dataset.csv\n"
     ]
    }
   ],
   "source": [
    "def extract_responses_to_csv(\n",
    "    eval_log: EvalLog,\n",
    "    original_csv_path,\n",
    "    output_csv_path,\n",
    "    response_column_name=\"model_response\",\n",
    "):\n",
    "    \"\"\"\n",
    "    Extract model responses from eval log and save to CSV with only rows that have responses.\n",
    "\n",
    "    Args:\n",
    "        eval_log: The evaluation log containing samples and responses\n",
    "        original_csv_path: Path to the original CSV file\n",
    "        output_csv_path: Path where to save the CSV with responses\n",
    "        response_column_name: Name of the column to add with model responses\n",
    "    \"\"\"\n",
    "    # Load original CSV\n",
    "    df = pd.read_csv(original_csv_path)\n",
    "\n",
    "    # Track rows with responses and their content\n",
    "    rows_with_responses = {}\n",
    "\n",
    "    # Extract responses from samples\n",
    "    if eval_log.samples:\n",
    "        for sample in eval_log.samples:\n",
    "            # Get the row index from metadata\n",
    "            row_index = sample.metadata.get(ROW_INDEX_KEY)\n",
    "            if row_index is not None and row_index < len(df):\n",
    "                # Extract the model response\n",
    "                if sample.output and sample.output.message:\n",
    "                    model_response = sample.output.message.content\n",
    "                    if isinstance(model_response, list):\n",
    "                        # If content is a list, join text parts\n",
    "                        model_response = \"\".join(\n",
    "                            [\n",
    "                                part.text\n",
    "                                for part in model_response\n",
    "                                if hasattr(part, \"text\")\n",
    "                            ]\n",
    "                        )\n",
    "\n",
    "                    model_response = model_response.split(\"Task 2:\")[0].strip()\n",
    "                    rows_with_responses[row_index] = model_response\n",
    "\n",
    "    # Filter dataframe to only include rows with responses\n",
    "    if rows_with_responses:\n",
    "        response_indices = list(rows_with_responses.keys())\n",
    "        df_filtered = df.iloc[response_indices].copy()\n",
    "\n",
    "        # Add responses to the filtered dataframe\n",
    "        df_filtered[response_column_name] = [\n",
    "            rows_with_responses[idx] for idx in response_indices\n",
    "        ]\n",
    "    else:\n",
    "        # If no responses, create empty dataframe with same columns plus response column\n",
    "        df_filtered = df.iloc[0:0].copy()  # Empty dataframe with same columns\n",
    "        df_filtered[response_column_name] = []\n",
    "\n",
    "    # Create output directory if it doesn't exist\n",
    "    os.makedirs(os.path.dirname(output_csv_path), exist_ok=True)\n",
    "\n",
    "    # Save the CSV with only rows that have responses\n",
    "    df_filtered.to_csv(output_csv_path, index=False)\n",
    "    print(\n",
    "        f\"Saved CSV with {len(df_filtered)} rows (with responses) to: {output_csv_path}\"\n",
    "    )\n",
    "\n",
    "\n",
    "# Run validation and get logs\n",
    "print(\"Validating evaluation logs...\")\n",
    "logs_by_model = get_validated_logs_by_model(CONTROL_LOG_DIR, EXPERIMENT_NAME)\n",
    "print(\"✓ Validation passed!\")\n",
    "\n",
    "# Process each successful evaluation log\n",
    "for model_name, logs in logs_by_model.items():\n",
    "    # Find the successful log for this model\n",
    "    successful_logs = [log for log in logs if log[\"status\"] == \"success\"]\n",
    "\n",
    "    if len(successful_logs) == 1:\n",
    "        eval_log = successful_logs[0][\"eval_log\"]\n",
    "\n",
    "        # Create output path: data/experiment_name/model_name/dataset.csv\n",
    "        output_csv_path = os.path.join(\n",
    "            f\"data/{EXPERIMENT_NAME}\", model_name, \"dataset.csv\"\n",
    "        )\n",
    "\n",
    "        # Extract responses and save to CSV\n",
    "        extract_responses_to_csv(\n",
    "            eval_log=eval_log,\n",
    "            original_csv_path=experiment_config.control.file_name,\n",
    "            output_csv_path=output_csv_path,\n",
    "            response_column_name=\"model_summary\",\n",
    "        )\n",
    "    else:\n",
    "        print(f\"Skipping model '{model_name}' - no successful logs found\")"
   ]
  },
  {
   "cell_type": "markdown",
   "metadata": {},
   "source": [
    "## Applying treatments to csv datasets"
   ]
  },
  {
   "cell_type": "code",
   "execution_count": 5,
   "metadata": {},
   "outputs": [
    {
     "name": "stdout",
     "output_type": "stream",
     "text": [
      "\n",
      "Processing: data/wikihow_summary_injection/anthropic_claude-3-5-haiku-20241022/dataset.csv\n",
      "Loading DataFrame from: data/wikihow_summary_injection/anthropic_claude-3-5-haiku-20241022/dataset.csv\n",
      "Generating summary length columns: [20, 100]\n",
      "\n",
      "Processing capitalization_rates...\n",
      "Generating capitalization treatments: [20, 100]\n",
      "✓ capitalization_rates: Added 6 columns, saved to data/wikihow_summary_injection/anthropic_claude-3-5-haiku-20241022/dataset_capitalization_rates_injected.csv\n",
      "\n",
      "Processing typo_rates...\n",
      "Generating typo treatments: {'medium': {'substitute_rate': 1, 'flip_rate': 1, 'drop_rate': 1, 'add_rate': 1}, 'heavy': {'substitute_rate': 10, 'flip_rate': 10, 'drop_rate': 10, 'add_rate': 10}}\n",
      "✓ typo_rates: Added 6 columns, saved to data/wikihow_summary_injection/anthropic_claude-3-5-haiku-20241022/dataset_typo_rates_injected.csv\n",
      "✓ Successfully processed anthropic_claude-3-5-haiku-20241022\n",
      "  - capitalization_rates: data/wikihow_summary_injection/anthropic_claude-3-5-haiku-20241022/dataset_capitalization_rates_injected.csv\n",
      "  - typo_rates: data/wikihow_summary_injection/anthropic_claude-3-5-haiku-20241022/dataset_typo_rates_injected.csv\n",
      "\n",
      "Processing: data/wikihow_summary_injection/ollama_llama3.2:1b-instruct-q8_0/dataset.csv\n",
      "Loading DataFrame from: data/wikihow_summary_injection/ollama_llama3.2:1b-instruct-q8_0/dataset.csv\n",
      "Generating summary length columns: [20, 100]\n",
      "\n",
      "Processing capitalization_rates...\n",
      "Generating capitalization treatments: [20, 100]\n",
      "✓ capitalization_rates: Added 6 columns, saved to data/wikihow_summary_injection/ollama_llama3.2:1b-instruct-q8_0/dataset_capitalization_rates_injected.csv\n",
      "\n",
      "Processing typo_rates...\n",
      "Generating typo treatments: {'medium': {'substitute_rate': 1, 'flip_rate': 1, 'drop_rate': 1, 'add_rate': 1}, 'heavy': {'substitute_rate': 10, 'flip_rate': 10, 'drop_rate': 10, 'add_rate': 10}}\n",
      "✓ typo_rates: Added 6 columns, saved to data/wikihow_summary_injection/ollama_llama3.2:1b-instruct-q8_0/dataset_typo_rates_injected.csv\n",
      "✓ Successfully processed ollama_llama3.2:1b-instruct-q8_0\n",
      "  - capitalization_rates: data/wikihow_summary_injection/ollama_llama3.2:1b-instruct-q8_0/dataset_capitalization_rates_injected.csv\n",
      "  - typo_rates: data/wikihow_summary_injection/ollama_llama3.2:1b-instruct-q8_0/dataset_typo_rates_injected.csv\n",
      "\n",
      "Processing: data/wikihow_summary_injection/ollama_gemma3:1b-it-q8_0/dataset.csv\n",
      "Loading DataFrame from: data/wikihow_summary_injection/ollama_gemma3:1b-it-q8_0/dataset.csv\n",
      "Generating summary length columns: [20, 100]\n",
      "\n",
      "Processing capitalization_rates...\n",
      "Generating capitalization treatments: [20, 100]\n",
      "✓ capitalization_rates: Added 6 columns, saved to data/wikihow_summary_injection/ollama_gemma3:1b-it-q8_0/dataset_capitalization_rates_injected.csv\n",
      "\n",
      "Processing typo_rates...\n",
      "Generating typo treatments: {'medium': {'substitute_rate': 1, 'flip_rate': 1, 'drop_rate': 1, 'add_rate': 1}, 'heavy': {'substitute_rate': 10, 'flip_rate': 10, 'drop_rate': 10, 'add_rate': 10}}\n",
      "✓ typo_rates: Added 6 columns, saved to data/wikihow_summary_injection/ollama_gemma3:1b-it-q8_0/dataset_typo_rates_injected.csv\n",
      "✓ Successfully processed ollama_gemma3:1b-it-q8_0\n",
      "  - capitalization_rates: data/wikihow_summary_injection/ollama_gemma3:1b-it-q8_0/dataset_capitalization_rates_injected.csv\n",
      "  - typo_rates: data/wikihow_summary_injection/ollama_gemma3:1b-it-q8_0/dataset_typo_rates_injected.csv\n",
      "\n",
      "Processing: data/wikihow_summary_injection/anthropic_claude-sonnet-4-20250514/dataset.csv\n",
      "Loading DataFrame from: data/wikihow_summary_injection/anthropic_claude-sonnet-4-20250514/dataset.csv\n",
      "Generating summary length columns: [20, 100]\n",
      "\n",
      "Processing capitalization_rates...\n",
      "Generating capitalization treatments: [20, 100]\n",
      "✓ capitalization_rates: Added 6 columns, saved to data/wikihow_summary_injection/anthropic_claude-sonnet-4-20250514/dataset_capitalization_rates_injected.csv\n",
      "\n",
      "Processing typo_rates...\n",
      "Generating typo treatments: {'medium': {'substitute_rate': 1, 'flip_rate': 1, 'drop_rate': 1, 'add_rate': 1}, 'heavy': {'substitute_rate': 10, 'flip_rate': 10, 'drop_rate': 10, 'add_rate': 10}}\n",
      "✓ typo_rates: Added 6 columns, saved to data/wikihow_summary_injection/anthropic_claude-sonnet-4-20250514/dataset_typo_rates_injected.csv\n",
      "✓ Successfully processed anthropic_claude-sonnet-4-20250514\n",
      "  - capitalization_rates: data/wikihow_summary_injection/anthropic_claude-sonnet-4-20250514/dataset_capitalization_rates_injected.csv\n",
      "  - typo_rates: data/wikihow_summary_injection/anthropic_claude-sonnet-4-20250514/dataset_typo_rates_injected.csv\n"
     ]
    }
   ],
   "source": [
    "# Loop through all subdirs in the data/{EXPERIMENT_NAME} dir and apply treatments to dataset.csv files\n",
    "from src.data.treatments.wikisum_utils import apply_treatments_separate\n",
    "import os\n",
    "from pathlib import Path\n",
    "\n",
    "summary_lengths = [20, 100]\n",
    "\n",
    "treatment_params = {\n",
    "    \"capitalization_rates\": [20, 100],\n",
    "    \"typo_rates\": {\n",
    "        \"medium\": {\"substitute_rate\": 1, \"flip_rate\": 1, \"drop_rate\": 1, \"add_rate\": 1},\n",
    "        \"heavy\": {\n",
    "            \"substitute_rate\": 10,\n",
    "            \"flip_rate\": 10,\n",
    "            \"drop_rate\": 10,\n",
    "            \"add_rate\": 10,\n",
    "        },\n",
    "    },\n",
    "}\n",
    "\n",
    "# Get the experiment directory\n",
    "experiment_dir = Path(f\"data/{EXPERIMENT_NAME}\")\n",
    "\n",
    "# Find all subdirectories that contain dataset.csv\n",
    "for subdir in experiment_dir.iterdir():\n",
    "    if subdir.is_dir():\n",
    "        dataset_path = subdir / \"dataset.csv\"\n",
    "        if dataset_path.exists():\n",
    "            print(f\"\\nProcessing: {dataset_path}\")\n",
    "\n",
    "            try:\n",
    "                treated_files = apply_treatments_separate(\n",
    "                    csv_file_path=str(dataset_path),\n",
    "                    summary_lengths=summary_lengths,\n",
    "                    treatment_params=treatment_params,\n",
    "                )\n",
    "\n",
    "                print(f\"✓ Successfully processed {subdir.name}\")\n",
    "                for treatment_name, file_path in treated_files.items():\n",
    "                    print(f\"  - {treatment_name}: {file_path}\")\n",
    "\n",
    "            except Exception as e:\n",
    "                print(f\"✗ Error processing {subdir.name}: {e}\")\n",
    "        else:\n",
    "            print(f\"Skipping {subdir.name} - no dataset.csv found\")\n"
   ]
  },
  {
   "cell_type": "markdown",
   "metadata": {},
   "source": [
    "## Treatment Evaluations"
   ]
  },
  {
   "cell_type": "code",
   "execution_count": 6,
   "metadata": {},
   "outputs": [],
   "source": [
    "# TODO: Make the capitalization strengths not be magic strings somehow\n",
    "\n",
    "\n",
    "capitalization_treatment_configs = [\n",
    "    TreatmentConfig(\n",
    "        model=resolve_model(model),\n",
    "        file_name=f\"data/{EXPERIMENT_NAME}/{split_provider_and_model(model)[0]}_{split_provider_and_model(model)[1]}/dataset_capitalization_rates_injected.csv\",\n",
    "        treatments_cols=[\n",
    "            f\"IL{summary_length}_{strength}\"\n",
    "            for strength in [\"S0\", \"S4\"]\n",
    "            for summary_length in summary_lengths\n",
    "        ],\n",
    "        scorer_criteria=[\"Yes\", \"Capitalization\"],\n",
    "    )\n",
    "    for model in MODELS\n",
    "]\n",
    "\n",
    "typo_treatment_configs = [\n",
    "    TreatmentConfig(\n",
    "        model=resolve_model(model),\n",
    "        file_name=f\"data/{EXPERIMENT_NAME}/{split_provider_and_model(model)[0]}_{split_provider_and_model(model)[1]}/dataset_typo_rates_injected.csv\",\n",
    "        treatments_cols=[\n",
    "            f\"IL{summary_length}_{strength}\"\n",
    "            for strength in [\"light\", \"medium\"]\n",
    "            for summary_length in summary_lengths\n",
    "        ],\n",
    "        scorer_criteria=[\"Yes\", \"Typing and spelling errors\"],\n",
    "    )\n",
    "    for model in MODELS\n",
    "]\n",
    "\n",
    "treatment_configs = capitalization_treatment_configs + typo_treatment_configs"
   ]
  },
  {
   "cell_type": "code",
   "execution_count": 7,
   "metadata": {},
   "outputs": [
    {
     "data": {
      "text/plain": [
       "16"
      ]
     },
     "execution_count": 7,
     "metadata": {},
     "output_type": "execute_result"
    }
   ],
   "source": [
    "all_tasks = [\n",
    "    injection_consistency_and_recognition(\n",
    "        csv_file_path=treatment_config.file_name,\n",
    "        treatment_col=treatment_col,\n",
    "        scorer_criteria=treatment_config.scorer_criteria,\n",
    "        prompt_template_args=PROMPT_TEMPLATE_ARGS,\n",
    "        model=treatment_config.model,\n",
    "        scorer_model=resolve_model(SCORING_MODEL),\n",
    "    )\n",
    "    for treatment_config in treatment_configs\n",
    "    for treatment_col in treatment_config.treatments_cols\n",
    "]\n",
    "\n",
    "len(all_tasks)"
   ]
  },
  {
   "cell_type": "code",
   "execution_count": 8,
   "metadata": {},
   "outputs": [
    {
     "data": {
      "application/vnd.jupyter.widget-view+json": {
       "model_id": "a57f87686cb24ff9a4ed68be8d051a52",
       "version_major": 2,
       "version_minor": 0
      },
      "text/plain": [
       "Output()"
      ]
     },
     "metadata": {},
     "output_type": "display_data"
    },
    {
     "data": {
      "text/html": [
       "<pre style=\"white-space:pre;overflow-x:auto;line-height:normal;font-family:Menlo,'DejaVu Sans Mono',consolas,'Courier New',monospace\"></pre>\n"
      ],
      "text/plain": []
     },
     "metadata": {},
     "output_type": "display_data"
    }
   ],
   "source": [
    "from src.inspect_helpers.tasks import injection_consistency_and_recognition\n",
    "from inspect_ai import eval\n",
    "\n",
    "eval(\n",
    "    tasks=all_tasks,\n",
    "    limit=LIMIT,\n",
    "    log_dir=TREATMENT_LOG_DIR,\n",
    "    timeout=5000,\n",
    ")\n"
   ]
  },
  {
   "cell_type": "markdown",
   "metadata": {},
   "source": [
    "# Summarising results"
   ]
  },
  {
   "cell_type": "code",
   "execution_count": 18,
   "metadata": {},
   "outputs": [
    {
     "data": {
      "text/plain": [
       "False"
      ]
     },
     "execution_count": 18,
     "metadata": {},
     "output_type": "execute_result"
    }
   ],
   "source": [
    "\"data/wikihow_summary_injection/claude-sonnet-4-20250514/dataset_capitalization_rates_injected.csv\" == \"data/wikihow_summary_injection/anthropic_claude-sonnet-4-20250514/dataset_capitalization_rates_injected.csv\""
   ]
  },
  {
   "cell_type": "code",
   "execution_count": null,
   "metadata": {},
   "outputs": [],
   "source": []
  }
 ],
 "metadata": {
  "kernelspec": {
   "display_name": "injection_recognition",
   "language": "python",
   "name": "python3"
  },
  "language_info": {
   "codemirror_mode": {
    "name": "ipython",
    "version": 3
   },
   "file_extension": ".py",
   "mimetype": "text/x-python",
   "name": "python",
   "nbconvert_exporter": "python",
   "pygments_lexer": "ipython3",
   "version": "3.11.0"
  }
 },
 "nbformat": 4,
 "nbformat_minor": 2
}
